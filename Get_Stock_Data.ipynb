{
  "nbformat": 4,
  "nbformat_minor": 0,
  "metadata": {
    "colab": {
      "provenance": [],
      "authorship_tag": "ABX9TyMo4jhEwthk1jnX1O/Y0RL2",
      "include_colab_link": true
    },
    "kernelspec": {
      "name": "python3",
      "display_name": "Python 3"
    },
    "language_info": {
      "name": "python"
    }
  },
  "cells": [
    {
      "cell_type": "markdown",
      "metadata": {
        "id": "view-in-github",
        "colab_type": "text"
      },
      "source": [
        "<a href=\"https://colab.research.google.com/github/phibro36/DataScience-Tools-Ecosystem/blob/main/Get_Stock_Data.ipynb\" target=\"_parent\"><img src=\"https://colab.research.google.com/assets/colab-badge.svg\" alt=\"Open In Colab\"/></a>"
      ]
    },
    {
      "cell_type": "code",
      "execution_count": 13,
      "metadata": {
        "colab": {
          "base_uri": "https://localhost:8080/"
        },
        "id": "NkiGis7I6df3",
        "outputId": "187e0711-1259-4593-f242-ddac8665e5e1"
      },
      "outputs": [
        {
          "output_type": "stream",
          "name": "stdout",
          "text": [
            "Data has been exported to C:\\Users\\phbrooks\\Desktop/stock_data_output.xlsx\n"
          ]
        }
      ],
      "source": [
        "import yfinance as yf\n",
        "import pandas as pd\n",
        "from datetime import datetime, timedelta\n",
        "import os\n",
        "\n",
        "# New list of tickers from your provided list\n",
        "tickers = [\n",
        "    \"SOFI\", \"DRUG\", \"SRRK\", \"FOXO\", \"UXIN\", \"ARBB\", \"FREY\", \"ATGL\", \"STEC\", \"TWG\", \"FXLV\",\n",
        "    \"JDZG\", \"AUST\", \"LSB\", \"CAPR\", \"AMLX\", \"ELWS\", \"CMND\", \"MHUA\", \"FNMA\", \"TVGN\", \"EGRX\",\n",
        "    \"JDST\", \"NVOS\", \"DUST\", \"BLDP\", \"NUGT\", \"FMCC\", \"TSBX\", \"AMD\", \"F\", \"COTY\", \"MGM\"\n",
        "]\n",
        "\n",
        "# Fetch data for the last 90 trading days\n",
        "def fetch_stock_data(tickers, period='6mo'):\n",
        "    all_data = []\n",
        "    for ticker in tickers:\n",
        "        stock = yf.Ticker(ticker)\n",
        "        hist = stock.history(period=period)  # Using 'period' for trading days\n",
        "        hist['Ticker'] = ticker\n",
        "        all_data.append(hist)\n",
        "    return pd.concat(all_data, axis=0)\n",
        "\n",
        "stock_data = fetch_stock_data(tickers, period='6mo')\n",
        "stock_data.reset_index(inplace=True)\n",
        "\n",
        "# Remove timezone information from datetime columns (if any)\n",
        "if 'Date' in stock_data.columns:\n",
        "    stock_data['Date'] = pd.to_datetime(stock_data['Date']).dt.tz_localize(None)\n",
        "\n",
        "# Specify the directory where you want to save the file\n",
        "output_directory = \"C:\\\\Users\\\\phbrooks\\\\Desktop\"  # Change this to your desired directory\n",
        "if not os.path.exists(output_directory):\n",
        "    try:\n",
        "        os.makedirs(output_directory)  # Create directory if it doesn't exist\n",
        "    except Exception as e:\n",
        "        print(f\"Error creating directory: {e}\")\n",
        "        raise\n",
        "\n",
        "output_filename = os.path.join(output_directory, 'stock_data_output.xlsx')\n",
        "\n",
        "# Export data to the specified directory with error handling\n",
        "try:\n",
        "    stock_data.to_excel(output_filename, index=False)\n",
        "    print(f\"Data has been exported to {output_filename}\")\n",
        "except Exception as e:\n",
        "    print(f\"Error exporting data to Excel: {e}\")\n",
        "\n",
        "\n",
        "\n",
        "\n",
        "\n",
        "\n",
        "\n",
        "\n",
        "\n",
        "\n"
      ]
    },
    {
      "cell_type": "code",
      "source": [],
      "metadata": {
        "id": "ZRcl2qTW_Cnc"
      },
      "execution_count": null,
      "outputs": []
    }
  ]
}